{
 "cells": [
  {
   "cell_type": "code",
   "execution_count": 31,
   "metadata": {},
   "outputs": [],
   "source": [
    "from keras.layers import Dense, Flatten\n",
    "from keras.models import Model\n",
    "from keras.applications.vgg16 import VGG16\n",
    "from keras.applications.vgg16 import preprocess_input\n",
    "from keras.preprocessing import image\n",
    "from keras.preprocessing.image import ImageDataGenerator\n",
    "from tensorflow.keras.optimizers import Adam\n",
    "import tensorflow as tf\n",
    "import numpy as np\n",
    "import matplotlib.pyplot as plt\n",
    "import os\n"
   ]
  },
  {
   "cell_type": "code",
   "execution_count": 23,
   "metadata": {},
   "outputs": [],
   "source": [
    "#hyperparameter\n",
    "IMAGE_SIZE = [224, 224]\n",
    "train_path = 'train'\n",
    "validation_path = 'val'\n",
    "img_height = IMAGE_SIZE[0]\n",
    "img_width = IMAGE_SIZE[1]\n",
    "batch_size = 32\n",
    "nb_epochs = 25\n",
    "categories = os.listdir(train_path)\n",
    "\n",
    "data_gen_args = dict(rescale=1./255,\n",
    "                     shear_range=0.2,\n",
    "                     zoom_range=0.2,\n",
    "                     vertical_flip=True,\n",
    "                     rotation_range=40,\n",
    "                     width_shift_range=0.2,\n",
    "                     height_shift_range=0.2)\n",
    "\n",
    "adam_optim_args = dict(lr=0.001, beta_1=0.9, \n",
    "                       beta_2=0.999, \n",
    "                       epsilon=1e-07, \n",
    "                       amsgrad=False)"
   ]
  },
  {
   "cell_type": "code",
   "execution_count": 24,
   "metadata": {},
   "outputs": [],
   "source": [
    "#base model\n",
    "base_vgg_model = VGG16(input_shape=IMAGE_SIZE + [3], weights='imagenet', include_top=False)\n",
    "for layer in base_vgg_model.layers:\n",
    "  layer.trainable = False\n"
   ]
  },
  {
   "cell_type": "code",
   "execution_count": 25,
   "metadata": {},
   "outputs": [
    {
     "name": "stdout",
     "output_type": "stream",
     "text": [
      "Model: \"model_3\"\n",
      "_________________________________________________________________\n",
      "Layer (type)                 Output Shape              Param #   \n",
      "=================================================================\n",
      "input_4 (InputLayer)         [(None, 224, 224, 3)]     0         \n",
      "_________________________________________________________________\n",
      "block1_conv1 (Conv2D)        (None, 224, 224, 64)      1792      \n",
      "_________________________________________________________________\n",
      "block1_conv2 (Conv2D)        (None, 224, 224, 64)      36928     \n",
      "_________________________________________________________________\n",
      "block1_pool (MaxPooling2D)   (None, 112, 112, 64)      0         \n",
      "_________________________________________________________________\n",
      "block2_conv1 (Conv2D)        (None, 112, 112, 128)     73856     \n",
      "_________________________________________________________________\n",
      "block2_conv2 (Conv2D)        (None, 112, 112, 128)     147584    \n",
      "_________________________________________________________________\n",
      "block2_pool (MaxPooling2D)   (None, 56, 56, 128)       0         \n",
      "_________________________________________________________________\n",
      "block3_conv1 (Conv2D)        (None, 56, 56, 256)       295168    \n",
      "_________________________________________________________________\n",
      "block3_conv2 (Conv2D)        (None, 56, 56, 256)       590080    \n",
      "_________________________________________________________________\n",
      "block3_conv3 (Conv2D)        (None, 56, 56, 256)       590080    \n",
      "_________________________________________________________________\n",
      "block3_pool (MaxPooling2D)   (None, 28, 28, 256)       0         \n",
      "_________________________________________________________________\n",
      "block4_conv1 (Conv2D)        (None, 28, 28, 512)       1180160   \n",
      "_________________________________________________________________\n",
      "block4_conv2 (Conv2D)        (None, 28, 28, 512)       2359808   \n",
      "_________________________________________________________________\n",
      "block4_conv3 (Conv2D)        (None, 28, 28, 512)       2359808   \n",
      "_________________________________________________________________\n",
      "block4_pool (MaxPooling2D)   (None, 14, 14, 512)       0         \n",
      "_________________________________________________________________\n",
      "block5_conv1 (Conv2D)        (None, 14, 14, 512)       2359808   \n",
      "_________________________________________________________________\n",
      "block5_conv2 (Conv2D)        (None, 14, 14, 512)       2359808   \n",
      "_________________________________________________________________\n",
      "block5_conv3 (Conv2D)        (None, 14, 14, 512)       2359808   \n",
      "_________________________________________________________________\n",
      "block5_pool (MaxPooling2D)   (None, 7, 7, 512)         0         \n",
      "_________________________________________________________________\n",
      "flatten_3 (Flatten)          (None, 25088)             0         \n",
      "_________________________________________________________________\n",
      "dense_3 (Dense)              (None, 6)                 150534    \n",
      "=================================================================\n",
      "Total params: 14,865,222\n",
      "Trainable params: 150,534\n",
      "Non-trainable params: 14,714,688\n",
      "_________________________________________________________________\n"
     ]
    }
   ],
   "source": [
    "#model\n",
    "x = Flatten()(base_vgg_model.output)\n",
    "prediction = Dense(len(categories), activation='softmax')(x)\n",
    "\n",
    "model = Model(inputs=base_vgg_model.input, outputs=prediction)\n",
    "\n",
    "model.summary()\n",
    "\n",
    "optim = Adam(**adam_optim_args)\n",
    "\n",
    "model.compile(\n",
    "  loss='categorical_crossentropy',\n",
    "  optimizer=optim,\n",
    "  metrics=['accuracy']\n",
    ")\n"
   ]
  },
  {
   "cell_type": "code",
   "execution_count": 26,
   "metadata": {},
   "outputs": [
    {
     "name": "stdout",
     "output_type": "stream",
     "text": [
      "Found 1461 images belonging to 6 classes.\n",
      "Found 368 images belonging to 6 classes.\n"
     ]
    }
   ],
   "source": [
    "#data augmentation\n",
    "from keras.preprocessing.image import ImageDataGenerator\n",
    "train_datagen = ImageDataGenerator(**data_gen_args)\n",
    "\n",
    "train_generator = train_datagen.flow_from_directory(\n",
    "    train_path,\n",
    "    target_size=(img_height, img_width),\n",
    "    batch_size=batch_size,\n",
    "    class_mode='categorical')\n",
    "\n",
    "validation_datagen = ImageDataGenerator(rescale=1./255,)\n",
    "\n",
    "validation_generator = validation_datagen.flow_from_directory(\n",
    "    validation_path,\n",
    "    target_size=(img_height, img_width),\n",
    "    batch_size=batch_size,\n",
    "    class_mode='categorical')"
   ]
  },
  {
   "cell_type": "code",
   "execution_count": 27,
   "metadata": {},
   "outputs": [
    {
     "name": "stdout",
     "output_type": "stream",
     "text": [
      "Epoch 1/25\n",
      "45/45 [==============================] - 166s 4s/step - loss: 1.8312 - accuracy: 0.4185 - val_loss: 0.7594 - val_accuracy: 0.7330\n",
      "Epoch 2/25\n",
      "45/45 [==============================] - 176s 4s/step - loss: 0.7165 - accuracy: 0.7457 - val_loss: 0.4991 - val_accuracy: 0.8210\n",
      "Epoch 3/25\n",
      "45/45 [==============================] - 179s 4s/step - loss: 0.5853 - accuracy: 0.7909 - val_loss: 0.5590 - val_accuracy: 0.7812\n",
      "Epoch 4/25\n",
      "45/45 [==============================] - 180s 4s/step - loss: 0.5326 - accuracy: 0.8223 - val_loss: 0.6272 - val_accuracy: 0.7670\n",
      "Epoch 5/25\n",
      "45/45 [==============================] - 181s 4s/step - loss: 0.5251 - accuracy: 0.8260 - val_loss: 0.5276 - val_accuracy: 0.8352\n",
      "Epoch 6/25\n",
      "45/45 [==============================] - 182s 4s/step - loss: 0.4243 - accuracy: 0.8536 - val_loss: 0.5429 - val_accuracy: 0.8239\n",
      "Epoch 7/25\n",
      "45/45 [==============================] - 181s 4s/step - loss: 0.5030 - accuracy: 0.8370 - val_loss: 0.6846 - val_accuracy: 0.7955\n",
      "Epoch 8/25\n",
      "45/45 [==============================] - 182s 4s/step - loss: 0.4675 - accuracy: 0.8221 - val_loss: 0.4819 - val_accuracy: 0.8409\n",
      "Epoch 9/25\n",
      "45/45 [==============================] - 181s 4s/step - loss: 0.3812 - accuracy: 0.8681 - val_loss: 0.5739 - val_accuracy: 0.8068\n",
      "Epoch 10/25\n",
      "45/45 [==============================] - 183s 4s/step - loss: 0.4028 - accuracy: 0.8711 - val_loss: 0.5743 - val_accuracy: 0.8182\n",
      "Epoch 11/25\n",
      "45/45 [==============================] - 182s 4s/step - loss: 0.4301 - accuracy: 0.8303 - val_loss: 0.4736 - val_accuracy: 0.8636\n",
      "Epoch 12/25\n",
      "45/45 [==============================] - 182s 4s/step - loss: 0.4180 - accuracy: 0.8586 - val_loss: 0.5886 - val_accuracy: 0.8068\n",
      "Epoch 13/25\n",
      "45/45 [==============================] - 193s 4s/step - loss: 0.4083 - accuracy: 0.8386 - val_loss: 0.5936 - val_accuracy: 0.8267\n",
      "Epoch 14/25\n",
      "45/45 [==============================] - 193s 4s/step - loss: 0.3672 - accuracy: 0.8790 - val_loss: 0.6113 - val_accuracy: 0.8210\n",
      "Epoch 15/25\n",
      "45/45 [==============================] - 189s 4s/step - loss: 0.2998 - accuracy: 0.8824 - val_loss: 0.6029 - val_accuracy: 0.8267\n",
      "Epoch 16/25\n",
      "45/45 [==============================] - 184s 4s/step - loss: 0.2903 - accuracy: 0.8909 - val_loss: 0.5400 - val_accuracy: 0.8352\n",
      "Epoch 17/25\n",
      "45/45 [==============================] - 181s 4s/step - loss: 0.3073 - accuracy: 0.9074 - val_loss: 0.7352 - val_accuracy: 0.8040\n",
      "Epoch 18/25\n",
      "45/45 [==============================] - 182s 4s/step - loss: 0.3284 - accuracy: 0.8842 - val_loss: 0.7002 - val_accuracy: 0.8182\n",
      "Epoch 19/25\n",
      "45/45 [==============================] - 183s 4s/step - loss: 0.3148 - accuracy: 0.8824 - val_loss: 0.6041 - val_accuracy: 0.8153\n",
      "Epoch 20/25\n",
      "45/45 [==============================] - 182s 4s/step - loss: 0.3061 - accuracy: 0.8888 - val_loss: 0.7082 - val_accuracy: 0.8068\n",
      "Epoch 21/25\n",
      "45/45 [==============================] - 182s 4s/step - loss: 0.3323 - accuracy: 0.8842 - val_loss: 0.5418 - val_accuracy: 0.8494\n",
      "Epoch 22/25\n",
      "45/45 [==============================] - 181s 4s/step - loss: 0.2619 - accuracy: 0.9025 - val_loss: 0.6086 - val_accuracy: 0.8381\n",
      "Epoch 23/25\n",
      "45/45 [==============================] - 182s 4s/step - loss: 0.2970 - accuracy: 0.8909 - val_loss: 0.6183 - val_accuracy: 0.8153\n",
      "Epoch 24/25\n",
      "45/45 [==============================] - 182s 4s/step - loss: 0.2722 - accuracy: 0.9070 - val_loss: 0.5935 - val_accuracy: 0.8182\n",
      "Epoch 25/25\n",
      "45/45 [==============================] - 183s 4s/step - loss: 0.2973 - accuracy: 0.8871 - val_loss: 0.5354 - val_accuracy: 0.8466\n"
     ]
    }
   ],
   "source": [
    "#training model\n",
    "r = model.fit(\n",
    "    train_generator,\n",
    "    steps_per_epoch = train_generator.samples // batch_size,\n",
    "    validation_data = validation_generator, \n",
    "    validation_steps = validation_generator.samples // batch_size,\n",
    "    epochs = nb_epochs)"
   ]
  },
  {
   "cell_type": "code",
   "execution_count": 37,
   "metadata": {
    "scrolled": true
   },
   "outputs": [
    {
     "data": {
      "image/png": "[encoded data removed]",
      "text/plain": [
       "<Figure size 432x288 with 1 Axes>"
      ]
     },
     "metadata": {
      "needs_background": "light"
     },
     "output_type": "display_data"
    },
    {
     "data": {
      "image/png": "[encoded data removed]",
      "text/plain": [
       "<Figure size 432x288 with 1 Axes>"
      ]
     },
     "metadata": {
      "needs_background": "light"
     },
     "output_type": "display_data"
    },
    {
     "data": {
      "text/plain": [
       "<Figure size 432x288 with 0 Axes>"
      ]
     },
     "metadata": {},
     "output_type": "display_data"
    }
   ],
   "source": [
    "# loss\n",
    "plt.plot(r.history['loss'], label='train loss')\n",
    "plt.plot(r.history['val_loss'], label='val loss')\n",
    "plt.legend()\n",
    "plt.show()\n",
    "plt.savefig('LossVal_loss.png',dpi=300, bbox_inches='tight')\n",
    "# accuracies\n",
    "plt.plot(r.history['accuracy'], label='train acc')\n",
    "plt.plot(r.history['val_accuracy'], label='val acc')\n",
    "plt.legend()\n",
    "plt.show()\n",
    "plt.savefig('AccVal_acc.png',dpi=300, bbox_inches='tight')\n",
    "\n"
   ]
  },
  {
   "cell_type": "code",
   "execution_count": null,
   "metadata": {},
   "outputs": [],
   "source": [
    "# #save model\n",
    "# version = \"1\"\n",
    "# export_dir = \"Model\\{}\".format(version)\n",
    "# export_file_dir = \"Model\\{}.h5\".format(version)\n",
    "# tf.saved_model.save(model,export_dir=export_dir)\n",
    "# model.save(export_file_dir)"
   ]
  }
 ],
 "metadata": {
  "kernelspec": {
   "display_name": "Python 3",
   "language": "python",
   "name": "python3"
  },
  "language_info": {
   "codemirror_mode": {
    "name": "ipython",
    "version": 3
   },
   "file_extension": ".py",
   "mimetype": "text/x-python",
   "name": "python",
   "nbconvert_exporter": "python",
   "pygments_lexer": "ipython3",
   "version": "3.8.5"
  }
 },
 "nbformat": 4,
 "nbformat_minor": 4
}
